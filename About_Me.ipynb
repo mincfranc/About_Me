{
  "nbformat": 4,
  "nbformat_minor": 0,
  "metadata": {
    "colab": {
      "provenance": [],
      "authorship_tag": "ABX9TyMv29wmPGUHbiNrQRRE0Qz0",
      "include_colab_link": true
    },
    "kernelspec": {
      "name": "python3",
      "display_name": "Python 3"
    },
    "language_info": {
      "name": "python"
    }
  },
  "cells": [
    {
      "cell_type": "markdown",
      "metadata": {
        "id": "view-in-github",
        "colab_type": "text"
      },
      "source": [
        "<a href=\"https://colab.research.google.com/github/mincfranc/About_Me/blob/main/About_Me.ipynb\" target=\"_parent\"><img src=\"https://colab.research.google.com/assets/colab-badge.svg\" alt=\"Open In Colab\"/></a>"
      ]
    },
    {
      "cell_type": "markdown",
      "source": [
        "#1.**Minerva**\n",
        "+ My name is Minerva\n",
        "+ My pronouns are *she/her/they*\n",
        "+ My family and a few friends call me *Mine* which is a Spanish diminutive.\n",
        "Pronounced Mee-nay\n",
        "+ I was named after the Roman Goddess of Wisdom & War\n",
        "\n"
      ],
      "metadata": {
        "id": "BYlSOjUO9cbR"
      }
    },
    {
      "cell_type": "markdown",
      "source": [
        "##2. **Bootcamp**\n",
        "- I signed up for this bootcamp to learn python, SQL and coding overall in order to upgrade my professional life\n"
      ],
      "metadata": {
        "id": "j2tCP7icHcwo"
      }
    },
    {
      "cell_type": "markdown",
      "source": [
        "###3. **Rock, Paper, Scissors**\n",
        "* If I had a human body I would have a ~~goat's~~ lion's head\n",
        "* If I had to delete all files from my iPhone and keep only three apps, I would keep calendar, text and phone. But please text FIRST, don't call\n"
      ],
      "metadata": {
        "id": "BfMuQ2yZHmRM"
      }
    },
    {
      "cell_type": "markdown",
      "source": [
        "####4. **Tea**\n",
        "- My favorite podcasts are The Journal by Washington Post, Today Explained by Vox, and Spooked by Snap Judgment\n",
        "- I enjoy hikes, especially in new places because it feeds my ADHD need for novelty and my dog JackJack loves hikes.\n",
        "- I also like collecting toys from artists like Kathie Olivas, Luke Chueh and Tokyo Jesus because I am fascinated with the way our imagination and our hands connect to create STUFF that speaks to my personality. And it feeds my 'tism.\n",
        "-Getting tattoos are another art form I enjoy because I like making the art permanent on my body to see every day.\n",
        "\n",
        "[Forearm tattoo video](https://www.instagram.com/reel/C-K6iLhJUsM/?igsh=Ync0d3NtNDR6aWdo \"Forearm tattoo video\")\n",
        "\n"
      ],
      "metadata": {
        "id": "YZBePDISHtul"
      }
    },
    {
      "cell_type": "markdown",
      "source": [
        "\n",
        "#####5. **Let's be friends!**\n",
        "+ I am scared of the instensity of this training and super excited about the intense awesome potential for my professional life!\n",
        "+ I would love to work in a group because most of my professional work has been individualistic.\n",
        "+ I have a little boy and I tend to speak about him A LOT. His name is Fernando and he's a pleasure to parent. Even at 25yo.\n",
        "+ Table of Things I Love\n",
        "\n",
        "\n",
        "\n",
        "[JackJack at doggie beach in San Diego]"
      ],
      "metadata": {
        "id": "orxHOFj4R7Ov"
      }
    }
  ]
}